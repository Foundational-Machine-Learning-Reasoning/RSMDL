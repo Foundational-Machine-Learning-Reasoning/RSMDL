{
 "cells": [
  {
   "cell_type": "code",
   "execution_count": 10,
   "metadata": {},
   "outputs": [],
   "source": [
    "import torch\n",
    "from pathlib import Path \n",
    "\n",
    "from deep_reps import rsm_norm_difference\n",
    "from deep_reps import CLIPAndTokenizerLayers"
   ]
  },
  {
   "cell_type": "code",
   "execution_count": 33,
   "metadata": {},
   "outputs": [
    {
     "name": "stdout",
     "output_type": "stream",
     "text": [
      "RSM Norm Difference: 0.8515523672103882\n"
     ]
    }
   ],
   "source": [
    "import torch\n",
    "from pathlib import Path \n",
    "\n",
    "from deep_reps import rsm_norm_difference\n",
    "from deep_reps import CLIPAndTokenizerLayers\n",
    "\n",
    "pretrained = 'openai'\n",
    "model_name_1 = \"ViT-B-32\"\n",
    "model_name_2 = \"RN101\"\n",
    "device= \"cpu\"\n",
    "\n",
    "clip_model_1 = CLIPAndTokenizerLayers(model_name=model_name_1, pretrained=pretrained, device=device)\n",
    "clip_model_2 = CLIPAndTokenizerLayers(model_name=model_name_2, pretrained=pretrained, device=device)\n",
    "\n",
    "image_paths = [str(path) for path in Path(\"./images\").glob(\"*\")]\n",
    "images_classes = [\"capybara\", \"cat\", \"dog\", \"duck\", \"hedeghog\", \"hyrax\"]\n",
    "\n",
    "images_features_1 = []\n",
    "images_features_2 = []\n",
    "for path in image_paths:\n",
    "    image_features_1, _ = clip_model_1.forward(path, images_classes)\n",
    "    image_features_2, _ = clip_model_2.forward(path, images_classes)\n",
    "\n",
    "    images_features_1.append(image_features_1[''])\n",
    "    images_features_2.append(image_features_2[''])\n",
    "images_features_1 = torch.cat(images_features_1)\n",
    "images_features_2 = torch.cat(images_features_2)\n",
    "\n",
    "print(f\"RSM Norm Difference: {rsm_norm_difference(images_features_1, images_features_2)}\")"
   ]
  }
 ],
 "metadata": {
  "kernelspec": {
   "display_name": "backbones",
   "language": "python",
   "name": "python3"
  },
  "language_info": {
   "codemirror_mode": {
    "name": "ipython",
    "version": 3
   },
   "file_extension": ".py",
   "mimetype": "text/x-python",
   "name": "python",
   "nbconvert_exporter": "python",
   "pygments_lexer": "ipython3",
   "version": "3.12.4"
  }
 },
 "nbformat": 4,
 "nbformat_minor": 2
}
